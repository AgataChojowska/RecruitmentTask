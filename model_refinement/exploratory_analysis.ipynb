{
 "cells": [
  {
   "cell_type": "markdown",
   "id": "80332d7f",
   "metadata": {},
   "source": [
    "#### Loading the model - it's SARIMAX"
   ]
  },
  {
   "cell_type": "code",
   "execution_count": 291,
   "id": "53f71a57",
   "metadata": {},
   "outputs": [
    {
     "name": "stdout",
     "output_type": "stream",
     "text": [
      "<class 'statsmodels.tsa.arima.model.ARIMAResultsWrapper'>\n"
     ]
    }
   ],
   "source": [
    "import pickle\n",
    "\n",
    "# Load the model\n",
    "with open('arima_model.pkl', 'rb') as file:\n",
    "    model = pickle.load(file)\n",
    "\n",
    "print(type(model))"
   ]
  },
  {
   "cell_type": "markdown",
   "id": "d03f87d8",
   "metadata": {},
   "source": [
    "#### Getting to know the trained model"
   ]
  },
  {
   "cell_type": "code",
   "execution_count": 257,
   "id": "d3b48980",
   "metadata": {},
   "outputs": [
    {
     "data": {
      "text/plain": [
       "{'seasonal_periods': 0,\n",
       " 'measurement_error': False,\n",
       " 'time_varying_regression': False,\n",
       " 'simple_differencing': False,\n",
       " 'enforce_stationarity': True,\n",
       " 'enforce_invertibility': True,\n",
       " 'hamilton_representation': False,\n",
       " 'concentrate_scale': False,\n",
       " 'trend_offset': 1,\n",
       " 'order': (1, 1, 1),\n",
       " 'seasonal_order': (0, 0, 0, 0),\n",
       " 'k_diff': 1,\n",
       " 'k_seasonal_diff': 0,\n",
       " 'k_ar': 1,\n",
       " 'k_ma': 1,\n",
       " 'k_seasonal_ar': 0,\n",
       " 'k_seasonal_ma': 0,\n",
       " 'k_ar_params': 1,\n",
       " 'k_ma_params': 1,\n",
       " 'trend': 'n',\n",
       " 'k_trend': 0,\n",
       " 'k_exog': 0,\n",
       " 'mle_regression': False,\n",
       " 'state_regression': False}"
      ]
     },
     "execution_count": 257,
     "metadata": {},
     "output_type": "execute_result"
    }
   ],
   "source": [
    "model.specification"
   ]
  },
  {
   "cell_type": "code",
   "execution_count": 258,
   "id": "8fb63b0d",
   "metadata": {},
   "outputs": [
    {
     "data": {
      "text/plain": [
       "array([ 754.6793069 , 1499.29335814, 1048.69939846, 1394.97661636,\n",
       "       1092.70379712, 1490.24105116, 1558.47719719, 1932.70686367,\n",
       "       1198.4815614 , 1665.85119687, 1515.3797235 , 2094.81126194,\n",
       "       1166.78979203, 1842.78325175, 1214.22888405, 1795.3538669 ,\n",
       "        919.75473729, 1589.57199468, 1610.39426497, 1436.78976987,\n",
       "       1122.10310613, 1344.37460557, 1169.13897813, 2027.22612542,\n",
       "        759.33186385, 1517.80307699, 1536.88330068, 1699.95855624,\n",
       "        856.09592473, 1481.3855282 , 1342.03707168, 1664.4863664 ])"
      ]
     },
     "execution_count": 258,
     "metadata": {},
     "output_type": "execute_result"
    }
   ],
   "source": [
    "model.data.endog"
   ]
  },
  {
   "cell_type": "markdown",
   "id": "520e6fcd",
   "metadata": {},
   "source": [
    "### Conclusions:\n",
    "1. Old data is not really time-series, so here I would gather more info from the creators of the model or data engineers. For purposes of this task, I am assuming quarterly intervals starting in 2003.\n",
    "2. I need to do time series preprocessing on the training data, as SARIMAX is intended for timeseries.\n",
    "3. Since I'll be dealing with time-series, I'll use rolling windows for cross-validation.\n",
    "4. I will retrain the model on both old and new C1 data, not just apend, as I need to find best parameters along the way."
   ]
  },
  {
   "cell_type": "markdown",
   "id": "71e91263",
   "metadata": {},
   "source": [
    "#### Reading the new data from C1"
   ]
  },
  {
   "cell_type": "code",
   "execution_count": 260,
   "id": "01625935",
   "metadata": {},
   "outputs": [
    {
     "data": {
      "text/html": [
       "<div>\n",
       "<style scoped>\n",
       "    .dataframe tbody tr th:only-of-type {\n",
       "        vertical-align: middle;\n",
       "    }\n",
       "\n",
       "    .dataframe tbody tr th {\n",
       "        vertical-align: top;\n",
       "    }\n",
       "\n",
       "    .dataframe thead th {\n",
       "        text-align: right;\n",
       "    }\n",
       "</style>\n",
       "<table border=\"1\" class=\"dataframe\">\n",
       "  <thead>\n",
       "    <tr style=\"text-align: right;\">\n",
       "      <th></th>\n",
       "      <th>year</th>\n",
       "      <th>quarter</th>\n",
       "      <th>product</th>\n",
       "      <th>volumeSales</th>\n",
       "    </tr>\n",
       "  </thead>\n",
       "  <tbody>\n",
       "    <tr>\n",
       "      <th>0</th>\n",
       "      <td>2011</td>\n",
       "      <td>1</td>\n",
       "      <td>P1</td>\n",
       "      <td>164.946214</td>\n",
       "    </tr>\n",
       "    <tr>\n",
       "      <th>1</th>\n",
       "      <td>2011</td>\n",
       "      <td>1</td>\n",
       "      <td>P2</td>\n",
       "      <td>353.856667</td>\n",
       "    </tr>\n",
       "    <tr>\n",
       "      <th>2</th>\n",
       "      <td>2011</td>\n",
       "      <td>1</td>\n",
       "      <td>P3</td>\n",
       "      <td>235.876426</td>\n",
       "    </tr>\n",
       "    <tr>\n",
       "      <th>3</th>\n",
       "      <td>2011</td>\n",
       "      <td>2</td>\n",
       "      <td>P1</td>\n",
       "      <td>273.167296</td>\n",
       "    </tr>\n",
       "    <tr>\n",
       "      <th>4</th>\n",
       "      <td>2011</td>\n",
       "      <td>2</td>\n",
       "      <td>P2</td>\n",
       "      <td>643.979884</td>\n",
       "    </tr>\n",
       "  </tbody>\n",
       "</table>\n",
       "</div>"
      ],
      "text/plain": [
       "   year  quarter product  volumeSales\n",
       "0  2011        1      P1   164.946214\n",
       "1  2011        1      P2   353.856667\n",
       "2  2011        1      P3   235.876426\n",
       "3  2011        2      P1   273.167296\n",
       "4  2011        2      P2   643.979884"
      ]
     },
     "execution_count": 260,
     "metadata": {},
     "output_type": "execute_result"
    }
   ],
   "source": [
    "import pandas as pd\n",
    "new_data = pd.read_csv(\"historical_sales_volume.csv\")\n",
    "new_data = new_data[new_data[\"product\"].isin([\"P1\", \"P2\", \"P3\"])]\n",
    "new_data = new_data.sort_values(by=['year', 'quarter'])\n",
    "new_data = new_data.reset_index(drop=True)\n",
    "new_data.head()"
   ]
  },
  {
   "cell_type": "markdown",
   "id": "451cbc1f",
   "metadata": {},
   "source": [
    "#### Preprocessing the new data, adding index from created date"
   ]
  },
  {
   "cell_type": "code",
   "execution_count": 276,
   "id": "492ab664",
   "metadata": {},
   "outputs": [
    {
     "data": {
      "text/plain": [
       "date\n",
       "2011Q1     754.679307\n",
       "2011Q2    1499.293358\n",
       "2011Q3    1048.699398\n",
       "2011Q4    1394.976616\n",
       "2012Q1    1092.703797\n",
       "Freq: Q-DEC, Name: volumeSales, dtype: float64"
      ]
     },
     "execution_count": 276,
     "metadata": {},
     "output_type": "execute_result"
    }
   ],
   "source": [
    "def quarter_to_date(year: int, quarter: int):\n",
    "    month = {1: '01', 2: '04', 3: '07', 4: '10'}[quarter]\n",
    "    return pd.to_datetime(f'{year}-{month}-01')\n",
    "\n",
    "\n",
    "def get_dates_as_index(data: pd.DataFrame, date_col: str, year_col: int, quarter_col: int, to_period: str):\n",
    "    data['date'] = data.apply(lambda row: quarter_to_date(int(row[year_col]), row[quarter_col]), axis=1)\n",
    "    data = data.groupby('date')['volumeSales'].sum()\n",
    "    data.index = pd.DatetimeIndex(data.index).to_period(to_period)\n",
    "    return data\n",
    "\n",
    "\n",
    "new_series = get_dates_as_index(data=new_data, date_col=\"dates\", year_col=\"year\", quarter_col=\"quarter\", to_period=\"Q\")\n",
    "\n",
    "new_series.head()"
   ]
  },
  {
   "cell_type": "markdown",
   "id": "c35e2046",
   "metadata": {},
   "source": [
    "#### Preprocessing the old data"
   ]
  },
  {
   "cell_type": "code",
   "execution_count": 277,
   "id": "c81c2684",
   "metadata": {},
   "outputs": [
    {
     "data": {
      "text/plain": [
       "0     754.679307\n",
       "1    1499.293358\n",
       "2    1048.699398\n",
       "3    1394.976616\n",
       "4    1092.703797\n",
       "dtype: float64"
      ]
     },
     "execution_count": 277,
     "metadata": {},
     "output_type": "execute_result"
    }
   ],
   "source": [
    "# Old data is not really time-series, I am assuming quarterly intervals starting in 2003.\n",
    "original_series = pd.Series(original_endog)\n",
    "original_series.head()"
   ]
  },
  {
   "cell_type": "code",
   "execution_count": 278,
   "id": "2e4ae479",
   "metadata": {},
   "outputs": [
    {
     "data": {
      "text/plain": [
       "2003Q1     754.679307\n",
       "2003Q2    1499.293358\n",
       "2003Q3    1048.699398\n",
       "2003Q4    1394.976616\n",
       "2004Q1    1092.703797\n",
       "Freq: Q-DEC, dtype: float64"
      ]
     },
     "execution_count": 278,
     "metadata": {},
     "output_type": "execute_result"
    }
   ],
   "source": [
    "def convert_to_time_series(series: pd.Series, start_date: str, to_period: str):\n",
    "    dates = pd.date_range(start=start_date, periods=len(series), freq=to_period)\n",
    "    series = pd.Series(series.values, index=dates)\n",
    "    series.index = pd.DatetimeIndex(series.index).to_period(to_period)\n",
    "    return series\n",
    "\n",
    "old_series = convert_to_time_series(series=original_series, start_date='2003-01-01', to_period=\"Q\")\n",
    "old_series.head()"
   ]
  },
  {
   "cell_type": "markdown",
   "id": "8c22c20b",
   "metadata": {},
   "source": [
    "#### Combining old and new data"
   ]
  },
  {
   "cell_type": "code",
   "execution_count": 279,
   "id": "d376fdfb",
   "metadata": {},
   "outputs": [
    {
     "data": {
      "text/plain": [
       "2003Q1     754.679307\n",
       "2003Q2    1499.293358\n",
       "2003Q3    1048.699398\n",
       "2003Q4    1394.976616\n",
       "2004Q1    1092.703797\n",
       "Freq: Q-DEC, dtype: float64"
      ]
     },
     "execution_count": 279,
     "metadata": {},
     "output_type": "execute_result"
    }
   ],
   "source": [
    "combined_series = pd.concat([old_series, new_series])\n",
    "combined_series.head()"
   ]
  }
 ],
 "metadata": {
  "kernelspec": {
   "display_name": "Python 3 (ipykernel)",
   "language": "python",
   "name": "python3"
  },
  "language_info": {
   "codemirror_mode": {
    "name": "ipython",
    "version": 3
   },
   "file_extension": ".py",
   "mimetype": "text/x-python",
   "name": "python",
   "nbconvert_exporter": "python",
   "pygments_lexer": "ipython3",
   "version": "3.9.12"
  }
 },
 "nbformat": 4,
 "nbformat_minor": 5
}
